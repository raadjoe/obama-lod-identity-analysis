{
 "cells": [
  {
   "cell_type": "code",
   "execution_count": 160,
   "metadata": {},
   "outputs": [],
   "source": [
    "import pandas as pd\n",
    "import numpy as np\n",
    "import matplotlib.pyplot as plt\n",
    "import matplotlib"
   ]
  },
  {
   "cell_type": "markdown",
   "metadata": {},
   "source": [
    "#### Import into four different Data Frames: \n",
    "(1) sameAs links with their error degrees; <br />\n",
    "(2) the manually annotated terms; <br />\n",
    "(3) the non-singleton identity sets after discarding links with error degree > 0.4; <br />\n",
    "(4) the non-singleton identity sets after discarding links with error degree > 0.99 "
   ]
  },
  {
   "cell_type": "code",
   "execution_count": 163,
   "metadata": {},
   "outputs": [],
   "source": [
    "df_links = pd.read_csv(\"data/sameas-error-degree.csv\", sep=\";\", low_memory=False)\n",
    "df_terms = pd.read_csv(\"data/annotated-terms.csv\", sep=\";\", low_memory=False)\n",
    "df_closure_04 = pd.read_csv(\"data/non-singleton-sets-04.csv\", sep=\";\", low_memory=False)\n",
    "df_closure_09 = pd.read_csv(\"data/non-singleton-sets-099.csv\", sep=\";\", low_memory=False)"
   ]
  },
  {
   "cell_type": "code",
   "execution_count": 162,
   "metadata": {},
   "outputs": [
    {
     "data": {
      "text/html": [
       "<div>\n",
       "<style scoped>\n",
       "    .dataframe tbody tr th:only-of-type {\n",
       "        vertical-align: middle;\n",
       "    }\n",
       "\n",
       "    .dataframe tbody tr th {\n",
       "        vertical-align: top;\n",
       "    }\n",
       "\n",
       "    .dataframe thead th {\n",
       "        text-align: right;\n",
       "    }\n",
       "</style>\n",
       "<table border=\"1\" class=\"dataframe\">\n",
       "  <thead>\n",
       "    <tr style=\"text-align: right;\">\n",
       "      <th></th>\n",
       "      <th>term1</th>\n",
       "      <th>term2</th>\n",
       "      <th>error_degree</th>\n",
       "      <th>weight</th>\n",
       "      <th>eq_id</th>\n",
       "      <th>eq_size</th>\n",
       "      <th>community</th>\n",
       "    </tr>\n",
       "  </thead>\n",
       "  <tbody>\n",
       "    <tr>\n",
       "      <th>116668596</th>\n",
       "      <td>http://no.dbpedia.org/resource/Barack_Obama</td>\n",
       "      <td>http://pms.dbpedia.org/resource/Barack_Obama</td>\n",
       "      <td>0.24</td>\n",
       "      <td>2</td>\n",
       "      <td>5723</td>\n",
       "      <td>14916</td>\n",
       "      <td>0</td>\n",
       "    </tr>\n",
       "    <tr>\n",
       "      <th>116669406</th>\n",
       "      <td>http://tl.dbpedia.org/resource/Barack_Obama</td>\n",
       "      <td>http://war.dbpedia.org/resource/Barack_Obama</td>\n",
       "      <td>0.24</td>\n",
       "      <td>2</td>\n",
       "      <td>5723</td>\n",
       "      <td>14916</td>\n",
       "      <td>0</td>\n",
       "    </tr>\n",
       "    <tr>\n",
       "      <th>116669350</th>\n",
       "      <td>http://tg.dbpedia.org/resource/Барак_Обама</td>\n",
       "      <td>http://yo.dbpedia.org/resource/Barack_Obama</td>\n",
       "      <td>0.24</td>\n",
       "      <td>2</td>\n",
       "      <td>5723</td>\n",
       "      <td>14916</td>\n",
       "      <td>0</td>\n",
       "    </tr>\n",
       "    <tr>\n",
       "      <th>116665371</th>\n",
       "      <td>http://es.dbpedia.org/resource/Barack_Obama</td>\n",
       "      <td>http://my.dbpedia.org/resource/ဘာရတ်အိုဘားမား</td>\n",
       "      <td>0.24</td>\n",
       "      <td>2</td>\n",
       "      <td>5723</td>\n",
       "      <td>14916</td>\n",
       "      <td>0</td>\n",
       "    </tr>\n",
       "    <tr>\n",
       "      <th>116668816</th>\n",
       "      <td>http://pt.dbpedia.org/resource/Barack_Obama</td>\n",
       "      <td>http://sco.dbpedia.org/resource/Barack_Obama</td>\n",
       "      <td>0.24</td>\n",
       "      <td>2</td>\n",
       "      <td>5723</td>\n",
       "      <td>14916</td>\n",
       "      <td>0</td>\n",
       "    </tr>\n",
       "  </tbody>\n",
       "</table>\n",
       "</div>"
      ],
      "text/plain": [
       "                                                 term1  \\\n",
       "116668596  http://no.dbpedia.org/resource/Barack_Obama   \n",
       "116669406  http://tl.dbpedia.org/resource/Barack_Obama   \n",
       "116669350   http://tg.dbpedia.org/resource/Барак_Обама   \n",
       "116665371  http://es.dbpedia.org/resource/Barack_Obama   \n",
       "116668816  http://pt.dbpedia.org/resource/Barack_Obama   \n",
       "\n",
       "                                                   term2  error_degree  \\\n",
       "116668596   http://pms.dbpedia.org/resource/Barack_Obama          0.24   \n",
       "116669406   http://war.dbpedia.org/resource/Barack_Obama          0.24   \n",
       "116669350    http://yo.dbpedia.org/resource/Barack_Obama          0.24   \n",
       "116665371  http://my.dbpedia.org/resource/ဘာရတ်အိုဘားမား          0.24   \n",
       "116668816   http://sco.dbpedia.org/resource/Barack_Obama          0.24   \n",
       "\n",
       "           weight  eq_id  eq_size community  \n",
       "116668596       2   5723    14916         0  \n",
       "116669406       2   5723    14916         0  \n",
       "116669350       2   5723    14916         0  \n",
       "116665371       2   5723    14916         0  \n",
       "116668816       2   5723    14916         0  "
      ]
     },
     "execution_count": 162,
     "metadata": {},
     "output_type": "execute_result"
    }
   ],
   "source": [
    "df_links.sample(5)"
   ]
  },
  {
   "cell_type": "code",
   "execution_count": 7,
   "metadata": {},
   "outputs": [
    {
     "data": {
      "text/html": [
       "<div>\n",
       "<style scoped>\n",
       "    .dataframe tbody tr th:only-of-type {\n",
       "        vertical-align: middle;\n",
       "    }\n",
       "\n",
       "    .dataframe tbody tr th {\n",
       "        vertical-align: top;\n",
       "    }\n",
       "\n",
       "    .dataframe thead th {\n",
       "        text-align: right;\n",
       "    }\n",
       "</style>\n",
       "<table border=\"1\" class=\"dataframe\">\n",
       "  <thead>\n",
       "    <tr style=\"text-align: right;\">\n",
       "      <th></th>\n",
       "      <th>term</th>\n",
       "      <th>entity</th>\n",
       "      <th>class</th>\n",
       "    </tr>\n",
       "  </thead>\n",
       "  <tbody>\n",
       "    <tr>\n",
       "      <th>273</th>\n",
       "      <td>http://dbpedia.org/resource/Borack_Obama</td>\n",
       "      <td>Barack Obama</td>\n",
       "      <td>1</td>\n",
       "    </tr>\n",
       "    <tr>\n",
       "      <th>65</th>\n",
       "      <td>http://ja.dbpedia.org/resource/%E3%83%90%E3%83...</td>\n",
       "      <td>Can't tell</td>\n",
       "      <td>0</td>\n",
       "    </tr>\n",
       "    <tr>\n",
       "      <th>287</th>\n",
       "      <td>http://dbpedia.org/resource/OBAMA%21</td>\n",
       "      <td>Barack Obama</td>\n",
       "      <td>1</td>\n",
       "    </tr>\n",
       "    <tr>\n",
       "      <th>218</th>\n",
       "      <td>http://dbpedia.org/resource/Barack_II</td>\n",
       "      <td>Barack Obama</td>\n",
       "      <td>1</td>\n",
       "    </tr>\n",
       "    <tr>\n",
       "      <th>101</th>\n",
       "      <td>http://ne.dbpedia.org/resource/%E0%A4%AC%E0%A4...</td>\n",
       "      <td>Can't tell</td>\n",
       "      <td>0</td>\n",
       "    </tr>\n",
       "  </tbody>\n",
       "</table>\n",
       "</div>"
      ],
      "text/plain": [
       "                                                  term        entity  class\n",
       "273           http://dbpedia.org/resource/Borack_Obama  Barack Obama      1\n",
       "65   http://ja.dbpedia.org/resource/%E3%83%90%E3%83...    Can't tell      0\n",
       "287               http://dbpedia.org/resource/OBAMA%21  Barack Obama      1\n",
       "218              http://dbpedia.org/resource/Barack_II  Barack Obama      1\n",
       "101  http://ne.dbpedia.org/resource/%E0%A4%AC%E0%A4...    Can't tell      0"
      ]
     },
     "execution_count": 7,
     "metadata": {},
     "output_type": "execute_result"
    }
   ],
   "source": [
    "df_terms.sample(5)"
   ]
  },
  {
   "cell_type": "code",
   "execution_count": 9,
   "metadata": {},
   "outputs": [
    {
     "data": {
      "text/html": [
       "<div>\n",
       "<style scoped>\n",
       "    .dataframe tbody tr th:only-of-type {\n",
       "        vertical-align: middle;\n",
       "    }\n",
       "\n",
       "    .dataframe tbody tr th {\n",
       "        vertical-align: top;\n",
       "    }\n",
       "\n",
       "    .dataframe thead th {\n",
       "        text-align: right;\n",
       "    }\n",
       "</style>\n",
       "<table border=\"1\" class=\"dataframe\">\n",
       "  <thead>\n",
       "    <tr style=\"text-align: right;\">\n",
       "      <th></th>\n",
       "      <th>new_eq_id</th>\n",
       "      <th>term</th>\n",
       "    </tr>\n",
       "  </thead>\n",
       "  <tbody>\n",
       "    <tr>\n",
       "      <th>88</th>\n",
       "      <td>5698081</td>\n",
       "      <td>http://sh.dbpedia.org/resource/Barack_Obama</td>\n",
       "    </tr>\n",
       "    <tr>\n",
       "      <th>113</th>\n",
       "      <td>5698081</td>\n",
       "      <td>http://war.dbpedia.org/resource/Barack_Obama</td>\n",
       "    </tr>\n",
       "    <tr>\n",
       "      <th>32</th>\n",
       "      <td>5698081</td>\n",
       "      <td>http://fa.dbpedia.org/resource/باراک_اوباما</td>\n",
       "    </tr>\n",
       "    <tr>\n",
       "      <th>38</th>\n",
       "      <td>5698081</td>\n",
       "      <td>http://gl.dbpedia.org/resource/Barack_Obama</td>\n",
       "    </tr>\n",
       "    <tr>\n",
       "      <th>82</th>\n",
       "      <td>5698081</td>\n",
       "      <td>http://pt.dbpedia.org/resource/Barack_Obama</td>\n",
       "    </tr>\n",
       "  </tbody>\n",
       "</table>\n",
       "</div>"
      ],
      "text/plain": [
       "     new_eq_id                                          term\n",
       "88     5698081   http://sh.dbpedia.org/resource/Barack_Obama\n",
       "113    5698081  http://war.dbpedia.org/resource/Barack_Obama\n",
       "32     5698081   http://fa.dbpedia.org/resource/باراک_اوباما\n",
       "38     5698081   http://gl.dbpedia.org/resource/Barack_Obama\n",
       "82     5698081   http://pt.dbpedia.org/resource/Barack_Obama"
      ]
     },
     "execution_count": 9,
     "metadata": {},
     "output_type": "execute_result"
    }
   ],
   "source": [
    "df_closure_04.sample(5)"
   ]
  },
  {
   "cell_type": "code",
   "execution_count": 10,
   "metadata": {},
   "outputs": [
    {
     "data": {
      "text/html": [
       "<div>\n",
       "<style scoped>\n",
       "    .dataframe tbody tr th:only-of-type {\n",
       "        vertical-align: middle;\n",
       "    }\n",
       "\n",
       "    .dataframe tbody tr th {\n",
       "        vertical-align: top;\n",
       "    }\n",
       "\n",
       "    .dataframe thead th {\n",
       "        text-align: right;\n",
       "    }\n",
       "</style>\n",
       "<table border=\"1\" class=\"dataframe\">\n",
       "  <thead>\n",
       "    <tr style=\"text-align: right;\">\n",
       "      <th></th>\n",
       "      <th>new_eq_id</th>\n",
       "      <th>term</th>\n",
       "    </tr>\n",
       "  </thead>\n",
       "  <tbody>\n",
       "    <tr>\n",
       "      <th>106</th>\n",
       "      <td>18209200</td>\n",
       "      <td>http://dbpedia.org/resource/Barack_Obama_Biogr...</td>\n",
       "    </tr>\n",
       "    <tr>\n",
       "      <th>127</th>\n",
       "      <td>18209200</td>\n",
       "      <td>http://dbpedia.org/resource/Barak_hussein_obama</td>\n",
       "    </tr>\n",
       "    <tr>\n",
       "      <th>117</th>\n",
       "      <td>18209200</td>\n",
       "      <td>http://dbpedia.org/resource/Barack_obabma</td>\n",
       "    </tr>\n",
       "    <tr>\n",
       "      <th>160</th>\n",
       "      <td>18209200</td>\n",
       "      <td>http://dbpedia.org/resource/O'Bama</td>\n",
       "    </tr>\n",
       "    <tr>\n",
       "      <th>268</th>\n",
       "      <td>18209200</td>\n",
       "      <td>http://my.dbpedia.org/resource/ဘာရတ်အိုဘားမား</td>\n",
       "    </tr>\n",
       "  </tbody>\n",
       "</table>\n",
       "</div>"
      ],
      "text/plain": [
       "     new_eq_id                                               term\n",
       "106   18209200  http://dbpedia.org/resource/Barack_Obama_Biogr...\n",
       "127   18209200    http://dbpedia.org/resource/Barak_hussein_obama\n",
       "117   18209200          http://dbpedia.org/resource/Barack_obabma\n",
       "160   18209200                 http://dbpedia.org/resource/O'Bama\n",
       "268   18209200      http://my.dbpedia.org/resource/ဘာရတ်အိုဘားမား"
      ]
     },
     "execution_count": 10,
     "metadata": {},
     "output_type": "execute_result"
    }
   ],
   "source": [
    "df_closure_09.sample(5)"
   ]
  },
  {
   "cell_type": "markdown",
   "metadata": {},
   "source": [
    "The 440 terms in the Barack Obama Identity Set in the LOD Cloud. <br/> \n",
    "All these terms should refer to the same real world entity, but after manual evaluation, they seem to refer to 8 different real world entities.\n",
    "We couldn't tell what 102 terms refer to."
   ]
  },
  {
   "cell_type": "code",
   "execution_count": 20,
   "metadata": {},
   "outputs": [
    {
     "data": {
      "text/html": [
       "<div>\n",
       "<style scoped>\n",
       "    .dataframe tbody tr th:only-of-type {\n",
       "        vertical-align: middle;\n",
       "    }\n",
       "\n",
       "    .dataframe tbody tr th {\n",
       "        vertical-align: top;\n",
       "    }\n",
       "\n",
       "    .dataframe thead th {\n",
       "        text-align: right;\n",
       "    }\n",
       "</style>\n",
       "<table border=\"1\" class=\"dataframe\">\n",
       "  <thead>\n",
       "    <tr style=\"text-align: right;\">\n",
       "      <th></th>\n",
       "      <th>term</th>\n",
       "      <th>class</th>\n",
       "    </tr>\n",
       "    <tr>\n",
       "      <th>entity</th>\n",
       "      <th></th>\n",
       "      <th></th>\n",
       "    </tr>\n",
       "  </thead>\n",
       "  <tbody>\n",
       "    <tr>\n",
       "      <th>Barack Obama</th>\n",
       "      <td>260</td>\n",
       "      <td>260</td>\n",
       "    </tr>\n",
       "    <tr>\n",
       "      <th>Can't tell</th>\n",
       "      <td>102</td>\n",
       "      <td>102</td>\n",
       "    </tr>\n",
       "    <tr>\n",
       "      <th>Barack Obama's Presidency</th>\n",
       "      <td>47</td>\n",
       "      <td>47</td>\n",
       "    </tr>\n",
       "    <tr>\n",
       "      <th>Barack Obama's Presidential transition</th>\n",
       "      <td>22</td>\n",
       "      <td>22</td>\n",
       "    </tr>\n",
       "    <tr>\n",
       "      <th>Barack Obama's Senate Career</th>\n",
       "      <td>5</td>\n",
       "      <td>5</td>\n",
       "    </tr>\n",
       "    <tr>\n",
       "      <th>Barack Obama's Biography</th>\n",
       "      <td>1</td>\n",
       "      <td>1</td>\n",
       "    </tr>\n",
       "    <tr>\n",
       "      <th>Barack Obama's Photos</th>\n",
       "      <td>1</td>\n",
       "      <td>1</td>\n",
       "    </tr>\n",
       "    <tr>\n",
       "      <th>Barack Obama's Presidential Center</th>\n",
       "      <td>1</td>\n",
       "      <td>1</td>\n",
       "    </tr>\n",
       "    <tr>\n",
       "      <th>Black President</th>\n",
       "      <td>1</td>\n",
       "      <td>1</td>\n",
       "    </tr>\n",
       "  </tbody>\n",
       "</table>\n",
       "</div>"
      ],
      "text/plain": [
       "                                        term  class\n",
       "entity                                             \n",
       "Barack Obama                             260    260\n",
       "Can't tell                               102    102\n",
       "Barack Obama's Presidency                 47     47\n",
       "Barack Obama's Presidential transition    22     22\n",
       "Barack Obama's Senate Career               5      5\n",
       "Barack Obama's Biography                   1      1\n",
       "Barack Obama's Photos                      1      1\n",
       "Barack Obama's Presidential Center         1      1\n",
       "Black President                            1      1"
      ]
     },
     "execution_count": 20,
     "metadata": {},
     "output_type": "execute_result"
    }
   ],
   "source": [
    "df_terms.groupby(['entity']).count().sort_values(by='term', ascending=False) "
   ]
  },
  {
   "cell_type": "code",
   "execution_count": 35,
   "metadata": {},
   "outputs": [
    {
     "name": "stdout",
     "output_type": "stream",
     "text": [
      "Total links in Obama Identity Set: 14916\n",
      "Correct links in Obama Identity Set: 14587\n",
      "Wrong links in Obama Identity Set: 26\n",
      "Can't tell links in Obama Identity Set: 303\n",
      "----------------\n",
      "Total pairs in Obama Identity Set: 7615\n",
      "Correct pairs in Obama Identity Set: 7366\n",
      "Wrong pairs in Obama Identity Set: 17\n",
      "Can't tell pairs in Obama Identity Set: 232\n"
     ]
    }
   ],
   "source": [
    "canttell_links = 0\n",
    "wrong_links = 0\n",
    "correct_links = 0\n",
    "canttell_pairs = 0\n",
    "wrong_pairs = 0\n",
    "correct_pairs = 0\n",
    "\n",
    "for index, row in df_links.iterrows():\n",
    "    df1 = df_terms[df_terms['term']==row[\"term1\"]]\n",
    "    df2 = df_terms[df_terms['term']==row[\"term2\"]]\n",
    "    c1 = df1.iloc[0]['class']\n",
    "    c2 = df2.iloc[0]['class']\n",
    "    if c1==0 or c2==0:\n",
    "        canttell_pairs += 1\n",
    "        canttell_links += row[\"weight\"]\n",
    "    elif c1==c2:\n",
    "        correct_pairs +=1\n",
    "        correct_links += row[\"weight\"]\n",
    "    elif c1!=c2:\n",
    "        wrong_pairs +=1\n",
    "        wrong_links += row[\"weight\"]\n",
    "\n",
    "total_links = correct_links+wrong_links+canttell_links\n",
    "total_pairs = correct_pairs+wrong_pairs+canttell_pairs\n",
    "print(\"Total links in Obama Identity Set:\", total_links)\n",
    "print(\"Correct links in Obama Identity Set:\", correct_links)\n",
    "print(\"Wrong links in Obama Identity Set:\", wrong_links)\n",
    "print(\"Can't tell links in Obama Identity Set:\", canttell_links)\n",
    "print(\"----------------\")\n",
    "print(\"Total pairs in Obama Identity Set:\", total_pairs)\n",
    "print(\"Correct pairs in Obama Identity Set:\", correct_pairs)\n",
    "print(\"Wrong pairs in Obama Identity Set:\", wrong_pairs)\n",
    "print(\"Can't tell pairs in Obama Identity Set:\", canttell_pairs)"
   ]
  },
  {
   "cell_type": "code",
   "execution_count": 188,
   "metadata": {},
   "outputs": [],
   "source": [
    "def evaluatethreshold(threshold, output):\n",
    "    canttell = 0\n",
    "    TP=0\n",
    "    TN=0\n",
    "    FP=0\n",
    "    FN=0\n",
    "    for index, row in df_links.iterrows():\n",
    "        df1 = df_terms[df_terms['term']==row[\"term1\"]]\n",
    "        df2 = df_terms[df_terms['term']==row[\"term2\"]]\n",
    "        c1 = df1.iloc[0]['class']\n",
    "        c2 = df2.iloc[0]['class']\n",
    "        if c1==0 or c2==0:\n",
    "            canttell += row[\"weight\"]\n",
    "        elif c1==c2:\n",
    "            if row[\"error_degree\"] > threshold:\n",
    "                FP += row[\"weight\"]\n",
    "            else:\n",
    "                TN += row[\"weight\"]\n",
    "        elif c1!=c2:\n",
    "            if row[\"error_degree\"] > threshold:\n",
    "                TP += row[\"weight\"]\n",
    "            else:\n",
    "                FN += row[\"weight\"]\n",
    "            \n",
    "    precision = round((TP/(TP+FP))*100, 2)\n",
    "    recall =  round((TP/(TP+FN))*100, 2)\n",
    "    accuracy = round(((TP+TN)/(TP+TN+FP+FN))*100,2)\n",
    "    result = [precision, recall, accuracy, threshold]\n",
    "    if output == True:\n",
    "        print(\"When threshold is set at\", threshold)\n",
    "        print(\"-----------------\")\n",
    "        print(\"TP:\", TP)\n",
    "        print(\"TN:\", TN)\n",
    "        print(\"FP:\", FP)\n",
    "        print(\"FN:\", FN)\n",
    "        print(\"Can't tell:\", canttell)\n",
    "        print(\"-- Precision =\", precision, \"%\")\n",
    "        print(\"-- Recall =\", recall, \"%\")\n",
    "        print(\"-- Accuracy =\", accuracy, \"%\")\n",
    "    return result"
   ]
  },
  {
   "cell_type": "code",
   "execution_count": 189,
   "metadata": {},
   "outputs": [
    {
     "name": "stdout",
     "output_type": "stream",
     "text": [
      "When threshold is set at 0.99\n",
      "-----------------\n",
      "TP: 2\n",
      "TN: 14587\n",
      "FP: 0\n",
      "FN: 24\n",
      "Can't tell: 303\n",
      "-- Precision = 100.0 %\n",
      "-- Recall = 7.69 %\n",
      "-- Accuracy = 99.84 %\n"
     ]
    }
   ],
   "source": [
    "result_099 = evaluatethreshold(0.99, True)"
   ]
  },
  {
   "cell_type": "code",
   "execution_count": 190,
   "metadata": {},
   "outputs": [
    {
     "name": "stdout",
     "output_type": "stream",
     "text": [
      "When threshold is set at 0.4\n",
      "-----------------\n",
      "TP: 26\n",
      "TN: 13792\n",
      "FP: 795\n",
      "FN: 0\n",
      "Can't tell: 303\n",
      "-- Precision = 3.17 %\n",
      "-- Recall = 100.0 %\n",
      "-- Accuracy = 94.56 %\n"
     ]
    }
   ],
   "source": [
    "result_04 = evaluatethreshold(0.4, True)"
   ]
  },
  {
   "cell_type": "code",
   "execution_count": 191,
   "metadata": {},
   "outputs": [
    {
     "name": "stdout",
     "output_type": "stream",
     "text": [
      "[100.0, 7.69, 99.84, 0.99]\n",
      "[3.17, 100.0, 94.56, 0.4]\n"
     ]
    }
   ],
   "source": [
    "print(result_099)\n",
    "print(result_04)"
   ]
  },
  {
   "cell_type": "code",
   "execution_count": 192,
   "metadata": {
    "collapsed": true
   },
   "outputs": [
    {
     "name": "stdout",
     "output_type": "stream",
     "text": [
      "[0.18, 100.0, 0.18, 0]\n",
      "[0.18, 100.0, 0.18, 0.01]\n",
      "[0.18, 100.0, 0.18, 0.02]\n",
      "[0.18, 100.0, 0.18, 0.03]\n",
      "[0.18, 100.0, 0.18, 0.04]\n",
      "[0.18, 100.0, 0.18, 0.05]\n",
      "[0.18, 100.0, 0.18, 0.06]\n",
      "[0.18, 100.0, 0.18, 0.07]\n",
      "[0.18, 100.0, 0.18, 0.08]\n",
      "[0.18, 100.0, 0.18, 0.09]\n",
      "[0.18, 100.0, 0.18, 0.1]\n",
      "[0.18, 100.0, 0.18, 0.11]\n",
      "[0.18, 100.0, 0.18, 0.12]\n",
      "[0.18, 100.0, 0.18, 0.13]\n",
      "[0.18, 100.0, 0.18, 0.14]\n",
      "[0.18, 100.0, 0.18, 0.15]\n",
      "[0.18, 100.0, 0.18, 0.16]\n",
      "[0.18, 100.0, 0.18, 0.17]\n",
      "[0.18, 100.0, 0.18, 0.18]\n",
      "[0.18, 100.0, 0.18, 0.19]\n",
      "[0.18, 100.0, 0.18, 0.2]\n",
      "[0.18, 100.0, 0.18, 0.21]\n",
      "[0.18, 100.0, 0.18, 0.22]\n",
      "[0.18, 100.0, 0.18, 0.23]\n",
      "[3.17, 100.0, 94.56, 0.24]\n",
      "[3.17, 100.0, 94.56, 0.25]\n",
      "[3.17, 100.0, 94.56, 0.26]\n",
      "[3.17, 100.0, 94.56, 0.27]\n",
      "[3.17, 100.0, 94.56, 0.28]\n",
      "[3.17, 100.0, 94.56, 0.29]\n",
      "[3.17, 100.0, 94.56, 0.3]\n",
      "[3.17, 100.0, 94.56, 0.31]\n",
      "[3.17, 100.0, 94.56, 0.32]\n",
      "[3.17, 100.0, 94.56, 0.33]\n",
      "[3.17, 100.0, 94.56, 0.34]\n",
      "[3.17, 100.0, 94.56, 0.35]\n",
      "[3.17, 100.0, 94.56, 0.36]\n",
      "[3.17, 100.0, 94.56, 0.37]\n",
      "[3.17, 100.0, 94.56, 0.38]\n",
      "[3.17, 100.0, 94.56, 0.39]\n",
      "[3.17, 100.0, 94.56, 0.4]\n",
      "[3.17, 100.0, 94.56, 0.41]\n",
      "[3.17, 100.0, 94.56, 0.42]\n",
      "[3.17, 100.0, 94.56, 0.43]\n",
      "[3.17, 100.0, 94.56, 0.44]\n",
      "[3.17, 100.0, 94.56, 0.45]\n",
      "[3.17, 100.0, 94.56, 0.46]\n",
      "[1.87, 38.46, 96.3, 0.47]\n",
      "[1.9, 38.46, 96.37, 0.48]\n",
      "[3.91, 38.46, 98.21, 0.49]\n",
      "[6.56, 30.77, 99.1, 0.5]\n",
      "[6.56, 30.77, 99.1, 0.51]\n",
      "[6.56, 30.77, 99.1, 0.52]\n",
      "[6.56, 30.77, 99.1, 0.53]\n",
      "[6.56, 30.77, 99.1, 0.54]\n",
      "[6.56, 30.77, 99.1, 0.55]\n",
      "[6.56, 30.77, 99.1, 0.56]\n",
      "[6.56, 30.77, 99.1, 0.57]\n",
      "[6.56, 30.77, 99.1, 0.58]\n",
      "[6.56, 30.77, 99.1, 0.59]\n",
      "[6.56, 30.77, 99.1, 0.6]\n",
      "[6.56, 30.77, 99.1, 0.61]\n",
      "[6.56, 30.77, 99.1, 0.62]\n",
      "[6.56, 30.77, 99.1, 0.63]\n",
      "[6.56, 30.77, 99.1, 0.64]\n",
      "[6.56, 30.77, 99.1, 0.65]\n",
      "[6.56, 30.77, 99.1, 0.66]\n",
      "[6.56, 30.77, 99.1, 0.67]\n",
      "[6.56, 30.77, 99.1, 0.68]\n",
      "[6.56, 30.77, 99.1, 0.69]\n",
      "[6.56, 30.77, 99.1, 0.7]\n",
      "[6.56, 30.77, 99.1, 0.71]\n",
      "[6.56, 30.77, 99.1, 0.72]\n",
      "[6.56, 30.77, 99.1, 0.73]\n",
      "[6.56, 30.77, 99.1, 0.74]\n",
      "[6.56, 30.77, 99.1, 0.75]\n",
      "[6.56, 30.77, 99.1, 0.76]\n",
      "[6.56, 30.77, 99.1, 0.77]\n",
      "[6.56, 30.77, 99.1, 0.78]\n",
      "[6.56, 30.77, 99.1, 0.79]\n",
      "[6.56, 30.77, 99.1, 0.8]\n",
      "[6.56, 30.77, 99.1, 0.81]\n",
      "[6.56, 30.77, 99.1, 0.82]\n",
      "[6.56, 30.77, 99.1, 0.83]\n",
      "[6.56, 30.77, 99.1, 0.84]\n",
      "[6.56, 30.77, 99.1, 0.85]\n",
      "[6.56, 30.77, 99.1, 0.86]\n",
      "[6.56, 30.77, 99.1, 0.87]\n",
      "[6.56, 30.77, 99.1, 0.88]\n",
      "[6.56, 30.77, 99.1, 0.89]\n",
      "[6.56, 30.77, 99.1, 0.9]\n",
      "[6.56, 30.77, 99.1, 0.91]\n",
      "[6.56, 30.77, 99.1, 0.92]\n",
      "[9.88, 30.77, 99.38, 0.93]\n",
      "[9.88, 30.77, 99.38, 0.94]\n",
      "[9.88, 30.77, 99.38, 0.95]\n",
      "[7.58, 19.23, 99.44, 0.96]\n",
      "[7.58, 19.23, 99.44, 0.97]\n",
      "[7.58, 19.23, 99.44, 0.98]\n",
      "[100.0, 7.69, 99.84, 0.99]\n"
     ]
    }
   ],
   "source": [
    "precision_list = []\n",
    "recall_list = []\n",
    "accuracy_list = []\n",
    "threshold_list = []\n",
    "threshold = 0\n",
    "while threshold < 1: \n",
    "    result = []\n",
    "    result = evaluatethreshold(threshold, False)\n",
    "    print(result)\n",
    "    precision_list.append(result[0])\n",
    "    recall_list.append(result[1])\n",
    "    accuracy_list.append(result[2])\n",
    "    threshold_list.append(result[3])\n",
    "    threshold = round((threshold+0.01),2)\n",
    "    "
   ]
  },
  {
   "cell_type": "code",
   "execution_count": 194,
   "metadata": {
    "scrolled": true
   },
   "outputs": [
    {
     "name": "stdout",
     "output_type": "stream",
     "text": [
      "[0, 0.01, 0.02, 0.03, 0.04, 0.05, 0.06, 0.07, 0.08, 0.09, 0.1, 0.11, 0.12, 0.13, 0.14, 0.15, 0.16, 0.17, 0.18, 0.19, 0.2, 0.21, 0.22, 0.23, 0.24, 0.25, 0.26, 0.27, 0.28, 0.29, 0.3, 0.31, 0.32, 0.33, 0.34, 0.35, 0.36, 0.37, 0.38, 0.39, 0.4, 0.41, 0.42, 0.43, 0.44, 0.45, 0.46, 0.47, 0.48, 0.49, 0.5, 0.51, 0.52, 0.53, 0.54, 0.55, 0.56, 0.57, 0.58, 0.59, 0.6, 0.61, 0.62, 0.63, 0.64, 0.65, 0.66, 0.67, 0.68, 0.69, 0.7, 0.71, 0.72, 0.73, 0.74, 0.75, 0.76, 0.77, 0.78, 0.79, 0.8, 0.81, 0.82, 0.83, 0.84, 0.85, 0.86, 0.87, 0.88, 0.89, 0.9, 0.91, 0.92, 0.93, 0.94, 0.95, 0.96, 0.97, 0.98, 0.99]\n",
      "[0.18, 0.18, 0.18, 0.18, 0.18, 0.18, 0.18, 0.18, 0.18, 0.18, 0.18, 0.18, 0.18, 0.18, 0.18, 0.18, 0.18, 0.18, 0.18, 0.18, 0.18, 0.18, 0.18, 0.18, 3.17, 3.17, 3.17, 3.17, 3.17, 3.17, 3.17, 3.17, 3.17, 3.17, 3.17, 3.17, 3.17, 3.17, 3.17, 3.17, 3.17, 3.17, 3.17, 3.17, 3.17, 3.17, 3.17, 1.87, 1.9, 3.91, 6.56, 6.56, 6.56, 6.56, 6.56, 6.56, 6.56, 6.56, 6.56, 6.56, 6.56, 6.56, 6.56, 6.56, 6.56, 6.56, 6.56, 6.56, 6.56, 6.56, 6.56, 6.56, 6.56, 6.56, 6.56, 6.56, 6.56, 6.56, 6.56, 6.56, 6.56, 6.56, 6.56, 6.56, 6.56, 6.56, 6.56, 6.56, 6.56, 6.56, 6.56, 6.56, 6.56, 9.88, 9.88, 9.88, 7.58, 7.58, 7.58, 100.0]\n",
      "[100.0, 100.0, 100.0, 100.0, 100.0, 100.0, 100.0, 100.0, 100.0, 100.0, 100.0, 100.0, 100.0, 100.0, 100.0, 100.0, 100.0, 100.0, 100.0, 100.0, 100.0, 100.0, 100.0, 100.0, 100.0, 100.0, 100.0, 100.0, 100.0, 100.0, 100.0, 100.0, 100.0, 100.0, 100.0, 100.0, 100.0, 100.0, 100.0, 100.0, 100.0, 100.0, 100.0, 100.0, 100.0, 100.0, 100.0, 38.46, 38.46, 38.46, 30.77, 30.77, 30.77, 30.77, 30.77, 30.77, 30.77, 30.77, 30.77, 30.77, 30.77, 30.77, 30.77, 30.77, 30.77, 30.77, 30.77, 30.77, 30.77, 30.77, 30.77, 30.77, 30.77, 30.77, 30.77, 30.77, 30.77, 30.77, 30.77, 30.77, 30.77, 30.77, 30.77, 30.77, 30.77, 30.77, 30.77, 30.77, 30.77, 30.77, 30.77, 30.77, 30.77, 30.77, 30.77, 30.77, 19.23, 19.23, 19.23, 7.69]\n",
      "[0.18, 0.18, 0.18, 0.18, 0.18, 0.18, 0.18, 0.18, 0.18, 0.18, 0.18, 0.18, 0.18, 0.18, 0.18, 0.18, 0.18, 0.18, 0.18, 0.18, 0.18, 0.18, 0.18, 0.18, 94.56, 94.56, 94.56, 94.56, 94.56, 94.56, 94.56, 94.56, 94.56, 94.56, 94.56, 94.56, 94.56, 94.56, 94.56, 94.56, 94.56, 94.56, 94.56, 94.56, 94.56, 94.56, 94.56, 96.3, 96.37, 98.21, 99.1, 99.1, 99.1, 99.1, 99.1, 99.1, 99.1, 99.1, 99.1, 99.1, 99.1, 99.1, 99.1, 99.1, 99.1, 99.1, 99.1, 99.1, 99.1, 99.1, 99.1, 99.1, 99.1, 99.1, 99.1, 99.1, 99.1, 99.1, 99.1, 99.1, 99.1, 99.1, 99.1, 99.1, 99.1, 99.1, 99.1, 99.1, 99.1, 99.1, 99.1, 99.1, 99.1, 99.38, 99.38, 99.38, 99.44, 99.44, 99.44, 99.84]\n"
     ]
    }
   ],
   "source": [
    "print(threshold_list)\n",
    "print(precision_list)\n",
    "print(recall_list)\n",
    "print(accuracy_list)"
   ]
  },
  {
   "cell_type": "code",
   "execution_count": 195,
   "metadata": {
    "collapsed": true
   },
   "outputs": [
    {
     "data": {
      "image/png": "[encoded data removed]",
      "text/plain": [
       "<Figure size 900x600 with 1 Axes>"
      ]
     },
     "metadata": {
      "needs_background": "light"
     },
     "output_type": "display_data"
    }
   ],
   "source": [
    "plt.plot(threshold_list, precision_list, color='blue')\n",
    "plt.plot(threshold_list, recall_list,  color='black')\n",
    "#plt.plot(threshold_list, accuracy_list, #ls='dashed', color='b')\n",
    "plt.xlabel('Threshold')\n",
    "plt.ylabel('Percentage')\n",
    "plt.title('Precision / Recall Variation')\n",
    "plt.show()\n"
   ]
  },
  {
   "cell_type": "code",
   "execution_count": 196,
   "metadata": {
    "collapsed": true
   },
   "outputs": [
    {
     "data": {
      "image/png": "[encoded data removed]",
      "text/plain": [
       "<Figure size 900x600 with 1 Axes>"
      ]
     },
     "metadata": {
      "needs_background": "light"
     },
     "output_type": "display_data"
    }
   ],
   "source": [
    "plt.plot(precision_list, recall_list,  color='black')\n",
    "plt.xlabel('Precision')\n",
    "plt.ylabel('Recall')\n",
    "plt.title('Precision / Recall Plot')\n",
    "plt.show()"
   ]
  },
  {
   "cell_type": "code",
   "execution_count": 197,
   "metadata": {},
   "outputs": [
    {
     "data": {
      "text/html": [
       "<div>\n",
       "<style scoped>\n",
       "    .dataframe tbody tr th:only-of-type {\n",
       "        vertical-align: middle;\n",
       "    }\n",
       "\n",
       "    .dataframe tbody tr th {\n",
       "        vertical-align: top;\n",
       "    }\n",
       "\n",
       "    .dataframe thead th {\n",
       "        text-align: right;\n",
       "    }\n",
       "</style>\n",
       "<table border=\"1\" class=\"dataframe\">\n",
       "  <thead>\n",
       "    <tr style=\"text-align: right;\">\n",
       "      <th></th>\n",
       "      <th>term</th>\n",
       "    </tr>\n",
       "    <tr>\n",
       "      <th>new_eq_id</th>\n",
       "      <th></th>\n",
       "    </tr>\n",
       "  </thead>\n",
       "  <tbody>\n",
       "    <tr>\n",
       "      <th>18209200</th>\n",
       "      <td>362</td>\n",
       "    </tr>\n",
       "    <tr>\n",
       "      <th>18209201</th>\n",
       "      <td>78</td>\n",
       "    </tr>\n",
       "  </tbody>\n",
       "</table>\n",
       "</div>"
      ],
      "text/plain": [
       "           term\n",
       "new_eq_id      \n",
       "18209200    362\n",
       "18209201     78"
      ]
     },
     "execution_count": 197,
     "metadata": {},
     "output_type": "execute_result"
    }
   ],
   "source": [
    "df_closure_09.groupby('new_eq_id').count()"
   ]
  },
  {
   "cell_type": "code",
   "execution_count": 198,
   "metadata": {},
   "outputs": [],
   "source": [
    "df_B1 = df_closure_09[df_closure_09['new_eq_id']==18209200]\n",
    "df_B2 = df_closure_09[df_closure_09['new_eq_id']==18209201]\n",
    "df_C1 = df_closure_04[df_closure_04['new_eq_id']==5698081]\n",
    "\n",
    "result_B1 = [0,0,0,0,0,0,0,0,0]\n",
    "result_B2 = [0,0,0,0,0,0,0,0,0]\n",
    "result_C1 = [0,0,0,0,0,0,0,0,0]\n",
    "for index, row in df_B1.iterrows(): \n",
    "    df1 = df_terms[df_terms['term']==row[\"term\"]]\n",
    "    c1 = df1.iloc[0]['class']\n",
    "    result_B1[c1]+=1\n",
    "for index, row in df_B2.iterrows(): \n",
    "    df2 = df_terms[df_terms['term']==row[\"term\"]]\n",
    "    c2 = df2.iloc[0]['class']\n",
    "    result_B2[c2]+=1\n",
    "for index, row in df_C1.iterrows(): \n",
    "    df3 = df_terms[df_terms['term']==row[\"term\"]]\n",
    "    c3 = df3.iloc[0]['class']\n",
    "    result_C1[c3]+=1"
   ]
  },
  {
   "cell_type": "code",
   "execution_count": 199,
   "metadata": {},
   "outputs": [
    {
     "data": {
      "text/plain": [
       "[92, 260, 0, 1, 5, 1, 1, 1, 1]"
      ]
     },
     "execution_count": 199,
     "metadata": {},
     "output_type": "execute_result"
    }
   ],
   "source": [
    "result_B1"
   ]
  },
  {
   "cell_type": "code",
   "execution_count": 200,
   "metadata": {},
   "outputs": [
    {
     "data": {
      "text/plain": [
       "[10, 0, 47, 21, 0, 0, 0, 0, 0]"
      ]
     },
     "execution_count": 200,
     "metadata": {},
     "output_type": "execute_result"
    }
   ],
   "source": [
    "result_B2"
   ]
  },
  {
   "cell_type": "code",
   "execution_count": 201,
   "metadata": {},
   "outputs": [
    {
     "data": {
      "text/plain": [
       "[1, 120, 0, 0, 0, 0, 0, 0, 0]"
      ]
     },
     "execution_count": 201,
     "metadata": {},
     "output_type": "execute_result"
    }
   ],
   "source": [
    "result_C1"
   ]
  },
  {
   "cell_type": "code",
   "execution_count": null,
   "metadata": {},
   "outputs": [],
   "source": []
  }
 ],
 "metadata": {
  "kernelspec": {
   "display_name": "Python 3",
   "language": "python",
   "name": "python3"
  },
  "language_info": {
   "codemirror_mode": {
    "name": "ipython",
    "version": 3
   },
   "file_extension": ".py",
   "mimetype": "text/x-python",
   "name": "python",
   "nbconvert_exporter": "python",
   "pygments_lexer": "ipython3",
   "version": "3.7.1"
  }
 },
 "nbformat": 4,
 "nbformat_minor": 2
}
